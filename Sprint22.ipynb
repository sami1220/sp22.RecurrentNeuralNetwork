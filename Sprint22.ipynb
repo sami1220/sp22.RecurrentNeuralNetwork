{
 "cells": [
  {
   "cell_type": "markdown",
   "source": [
    "# Sprint22 リカレントニューラルネットワーク"
   ],
   "metadata": {}
  },
  {
   "cell_type": "markdown",
   "source": [
    "# ライブラリのimport"
   ],
   "metadata": {}
  },
  {
   "cell_type": "code",
   "execution_count": 1,
   "source": [
    "import numpy as np"
   ],
   "outputs": [],
   "metadata": {
    "id": "S4zur_dq1875"
   }
  },
  {
   "cell_type": "markdown",
   "source": [
    "# 問題1　SimpleRNNのフォワードプロパゲーション実装"
   ],
   "metadata": {
    "id": "5715niSj1bhx"
   }
  },
  {
   "cell_type": "code",
   "execution_count": 2,
   "source": [
    "def forward(x,h):\n",
    "    \"\"\"RNNの順伝播\n",
    "    Parameters\n",
    "    -----------\n",
    "    x : 時刻tの入力\n",
    "    h : 時刻t-1の状態\n",
    "    \"\"\"\n",
    "    for n in range(n_sequences):\n",
    "        h = np.tanh(x[:, n, :] @ w_x + h @ w_h + b)\n",
    "    return h"
   ],
   "outputs": [],
   "metadata": {
    "id": "GMZRBOoK1S-h"
   }
  },
  {
   "cell_type": "markdown",
   "source": [
    "# 問題2　小さな配列でのフォワードプロパゲーションの実験"
   ],
   "metadata": {
    "id": "u1S7FsrE2JjQ"
   }
  },
  {
   "cell_type": "code",
   "execution_count": 3,
   "source": [
    "x = np.array([[[1, 2], [2, 3], [3, 4]]])/100 # (batch_size, n_sequences, n_features)\n",
    "w_x = np.array([[1, 3, 5, 7], [3, 5, 7, 8]])/100 # (n_features, n_nodes)\n",
    "w_h = np.array([[1, 3, 5, 7], [2, 4, 6, 8], [3, 5, 7, 8], [4, 6, 8, 10]])/100 # (n_nodes, n_nodes)\n",
    "batch_size = x.shape[0] # 1\n",
    "n_sequences = x.shape[1] # 3\n",
    "n_features = x.shape[2] # 2\n",
    "n_nodes = w_x.shape[1] # 4\n",
    "h = np.zeros((batch_size, n_nodes)) # (batch_size, n_nodes)\n",
    "b = np.array([1, 1, 1, 1]) # (n_nodes,)"
   ],
   "outputs": [],
   "metadata": {
    "id": "XxpwG41X15OF"
   }
  },
  {
   "cell_type": "code",
   "execution_count": 4,
   "source": [
    "forward(x,h)"
   ],
   "outputs": [
    {
     "output_type": "execute_result",
     "data": {
      "text/plain": [
       "array([[0.79494228, 0.81839002, 0.83939649, 0.85584174]])"
      ]
     },
     "metadata": {},
     "execution_count": 4
    }
   ],
   "metadata": {
    "colab": {
     "base_uri": "https://localhost:8080/"
    },
    "id": "B88bDy8b2MhR",
    "outputId": "4ad7901c-ea12-4992-84fb-8294e327a31f"
   }
  }
 ],
 "metadata": {
  "colab": {
   "authorship_tag": "ABX9TyM26SMGogM3pyql08RM++Cy",
   "include_colab_link": true,
   "name": "Untitled10.ipynb",
   "provenance": []
  },
  "kernelspec": {
   "name": "python3",
   "display_name": "Python 3.7.11 64-bit ('sub': conda)"
  },
  "language_info": {
   "codemirror_mode": {
    "name": "ipython",
    "version": 3
   },
   "file_extension": ".py",
   "mimetype": "text/x-python",
   "name": "python",
   "nbconvert_exporter": "python",
   "pygments_lexer": "ipython3",
   "version": "3.7.11"
  },
  "interpreter": {
   "hash": "15fd5775daec78a3d2b557d938fb15a01a1c62fbdbfe50f040346c1054e408d2"
  }
 },
 "nbformat": 4,
 "nbformat_minor": 1
}